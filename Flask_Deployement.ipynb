{
  "cells": [
    {
      "cell_type": "code",
      "execution_count": null,
      "metadata": {
        "colab": {
          "base_uri": "https://localhost:8080/"
        },
        "id": "Ds-NyzKwKhNC",
        "outputId": "18746b63-f5ec-4c87-a16a-79d7584034c0"
      },
      "outputs": [
        {
          "name": "stdout",
          "output_type": "stream",
          "text": [
            "Looking in indexes: https://pypi.org/simple, https://us-python.pkg.dev/colab-wheels/public/simple/\n",
            "Collecting pyngrok\n",
            "  Downloading pyngrok-5.1.0.tar.gz (745 kB)\n",
            "\u001b[K     |████████████████████████████████| 745 kB 8.1 MB/s \n",
            "\u001b[?25hRequirement already satisfied: PyYAML in /usr/local/lib/python3.7/dist-packages (from pyngrok) (3.13)\n",
            "Building wheels for collected packages: pyngrok\n",
            "  Building wheel for pyngrok (setup.py) ... \u001b[?25l\u001b[?25hdone\n",
            "  Created wheel for pyngrok: filename=pyngrok-5.1.0-py3-none-any.whl size=19007 sha256=493c6ba1f2514b68ceac216c37106bc1a07334d561d53416428029870cf83a91\n",
            "  Stored in directory: /root/.cache/pip/wheels/bf/e6/af/ccf6598ecefecd44104069371795cb9b3afbcd16987f6ccfb3\n",
            "Successfully built pyngrok\n",
            "Installing collected packages: pyngrok\n",
            "Successfully installed pyngrok-5.1.0\n"
          ]
        }
      ],
      "source": [
        "!pip install pyngrok"
      ]
    },
    {
      "cell_type": "code",
      "execution_count": null,
      "metadata": {
        "colab": {
          "base_uri": "https://localhost:8080/"
        },
        "id": "Yz0EfJvuKlDr",
        "outputId": "50a800b4-c080-473b-e7d8-48304f4a9b76"
      },
      "outputs": [
        {
          "name": "stdout",
          "output_type": "stream",
          "text": [
            "Looking in indexes: https://pypi.org/simple, https://us-python.pkg.dev/colab-wheels/public/simple/\n",
            "Collecting flask_ngrok\n",
            "  Downloading flask_ngrok-0.0.25-py3-none-any.whl (3.1 kB)\n",
            "Requirement already satisfied: requests in /usr/local/lib/python3.7/dist-packages (from flask_ngrok) (2.23.0)\n",
            "Requirement already satisfied: Flask>=0.8 in /usr/local/lib/python3.7/dist-packages (from flask_ngrok) (1.1.4)\n",
            "Requirement already satisfied: itsdangerous<2.0,>=0.24 in /usr/local/lib/python3.7/dist-packages (from Flask>=0.8->flask_ngrok) (1.1.0)\n",
            "Requirement already satisfied: click<8.0,>=5.1 in /usr/local/lib/python3.7/dist-packages (from Flask>=0.8->flask_ngrok) (7.1.2)\n",
            "Requirement already satisfied: Jinja2<3.0,>=2.10.1 in /usr/local/lib/python3.7/dist-packages (from Flask>=0.8->flask_ngrok) (2.11.3)\n",
            "Requirement already satisfied: Werkzeug<2.0,>=0.15 in /usr/local/lib/python3.7/dist-packages (from Flask>=0.8->flask_ngrok) (1.0.1)\n",
            "Requirement already satisfied: MarkupSafe>=0.23 in /usr/local/lib/python3.7/dist-packages (from Jinja2<3.0,>=2.10.1->Flask>=0.8->flask_ngrok) (2.0.1)\n",
            "Requirement already satisfied: certifi>=2017.4.17 in /usr/local/lib/python3.7/dist-packages (from requests->flask_ngrok) (2022.5.18.1)\n",
            "Requirement already satisfied: idna<3,>=2.5 in /usr/local/lib/python3.7/dist-packages (from requests->flask_ngrok) (2.10)\n",
            "Requirement already satisfied: urllib3!=1.25.0,!=1.25.1,<1.26,>=1.21.1 in /usr/local/lib/python3.7/dist-packages (from requests->flask_ngrok) (1.24.3)\n",
            "Requirement already satisfied: chardet<4,>=3.0.2 in /usr/local/lib/python3.7/dist-packages (from requests->flask_ngrok) (3.0.4)\n",
            "Installing collected packages: flask-ngrok\n",
            "Successfully installed flask-ngrok-0.0.25\n"
          ]
        }
      ],
      "source": [
        "!pip install flask_ngrok"
      ]
    },
    {
      "cell_type": "code",
      "execution_count": null,
      "metadata": {
        "id": "Edbg1cVlDwYu"
      },
      "outputs": [],
      "source": [
        "from flask_ngrok import run_with_ngrok\n",
        "from flask import Flask,request,render_template\n",
        "import pickle\n",
        "import numpy as np\n",
        "import pandas as pd\n",
        "import os\n",
        "from flask import Flask, flash, request, redirect, url_for\n",
        "from werkzeug.utils import secure_filename\n",
        "from pyngrok import ngrok"
      ]
    },
    {
      "cell_type": "code",
      "execution_count": null,
      "metadata": {
        "colab": {
          "base_uri": "https://localhost:8080/"
        },
        "id": "5-hwrWgVELy-",
        "outputId": "896a91bc-e508-45e3-c56e-de2b7b29bf68"
      },
      "outputs": [
        {
          "name": "stdout",
          "output_type": "stream",
          "text": [
            "Looking in indexes: https://pypi.org/simple, https://us-python.pkg.dev/colab-wheels/public/simple/\n",
            "Requirement already satisfied: pyngrok in /usr/local/lib/python3.7/dist-packages (5.1.0)\n",
            "Requirement already satisfied: PyYAML in /usr/local/lib/python3.7/dist-packages (from pyngrok) (3.13)\n"
          ]
        }
      ],
      "source": [
        "!pip install pyngrok"
      ]
    },
    {
      "cell_type": "code",
      "execution_count": null,
      "metadata": {
        "id": "K91rcVbYERbO"
      },
      "outputs": [],
      "source": [
        "from pyngrok import ngrok"
      ]
    },
    {
      "cell_type": "code",
      "execution_count": null,
      "metadata": {
        "colab": {
          "base_uri": "https://localhost:8080/"
        },
        "id": "yu4y6nu6FJ9z",
        "outputId": "0a7afc21-965f-44ea-ecce-0f9a6d33ce42"
      },
      "outputs": [
        {
          "name": "stdout",
          "output_type": "stream",
          "text": [
            "/content/drive/MyDrive/Customer_Transaction_Data\n"
          ]
        }
      ],
      "source": [
        "cd /content/drive/MyDrive/Customer_Transaction_Data"
      ]
    },
    {
      "cell_type": "code",
      "execution_count": null,
      "metadata": {
        "colab": {
          "base_uri": "https://localhost:8080/"
        },
        "id": "h1rquJjeEWuo",
        "outputId": "32fb0ecd-5b5c-4ff6-bda7-395f3bada461"
      },
      "outputs": [
        {
          "name": "stdout",
          "output_type": "stream",
          "text": [
            "Authtoken saved to configuration file: /root/.ngrok2/ngrok.yml\n"
          ]
        }
      ],
      "source": [
        "!ngrok  authtoken 29RJdY1KLnCDjq1FDtAPGyzOgfa_7mMSJF1VhjVX4tmCvBqif"
      ]
    },
    {
      "cell_type": "code",
      "execution_count": null,
      "metadata": {
        "id": "MT9QcyHNW44t"
      },
      "outputs": [],
      "source": [
        "import os\n",
        "from werkzeug.utils import secure_filename"
      ]
    },
    {
      "cell_type": "code",
      "execution_count": null,
      "metadata": {
        "id": "bEKl2sHMl5iW"
      },
      "outputs": [],
      "source": [
        "import os\n",
        "from flask import Flask, flash, request, redirect, url_for\n",
        "from werkzeug.utils import secure_filename\n",
        "\n",
        "UPLOAD_FOLDER = '/content/drive/MyDrive/Customer_Transaction_Data/upload_folder'\n",
        "ALLOWED_EXTENSIONS = {'csv'}\n",
        "\n",
        "app = Flask(__name__)\n",
        "app.config['UPLOAD_FOLDER'] = UPLOAD_FOLDER\n",
        "def allowed_file(filename):\n",
        "    return '.' in filename and \\\n",
        "           filename.rsplit('.', 1)[1].lower() in ALLOWED_EXTENSIONS\n",
        "\n",
        "@app.route('/', methods=['GET', 'POST'])\n",
        "def upload_file():\n",
        "    if request.method == 'POST':\n",
        "        # check if the post request has the file part\n",
        "        if 'file' not in request.files:\n",
        "            flash('No file part')\n",
        "            return redirect(request.url)\n",
        "        file = request.files['file']\n",
        "        # if user does not select file, browser also\n",
        "        # submit an empty part without filename\n",
        "        if file.filename == '':\n",
        "            flash('No selected file')\n",
        "            return redirect(request.url)\n",
        "        if file and allowed_file(file.filename):\n",
        "            filename = secure_filename(file.filename)\n",
        "            file.save(os.path.join(app.config['UPLOAD_FOLDER'], filename))\n",
        "            return redirect(url_for('uploaded_file',\n",
        "                                    filename=filename))\n",
        "    return '''\n",
        "    <!doctype html>\n",
        "    <title>Upload new File</title>\n",
        "    <h1>Upload new File</h1>\n",
        "    <form method=post enctype=multipart/form-data>\n",
        "      <input type=file name=file>\n",
        "      <input type=submit value=Upload>\n",
        "    </form>\n",
        "    '''\n",
        "from flask import send_from_directory\n",
        "\n",
        "@app.route('/uploads/<filename>')\n",
        "def uploaded_file(filename):\n",
        "    return send_from_directory(app.config['UPLOAD_FOLDER'],\n",
        "                               filename)"
      ]
    },
    {
      "cell_type": "code",
      "execution_count": null,
      "metadata": {
        "id": "NYkTuxs9bhGy"
      },
      "outputs": [],
      "source": [
        "import os\n",
        "from flask import Flask, flash, request, redirect, url_for\n",
        "from werkzeug.utils import secure_filename\n",
        "from flask import send_from_directory\n",
        "model=pickle.load(open('Customer_transaction_prediction_model.pkl','rb'))\n",
        "UPLOAD_FOLDER = '/content/drive/MyDrive/Customer_Transaction_Data/upload_folder'\n",
        "ALLOWED_EXTENSIONS = {'csv'}\n",
        "app = Flask(__name__)\n",
        "app.config['UPLOAD_FOLDER'] = UPLOAD_FOLDER\n",
        "def allowed_file(filename):\n",
        "    return '.' in filename and \\\n",
        "           filename.rsplit('.', 1)[1].lower() in ALLOWED_EXTENSIONS\n",
        "@app.route('/', methods=['GET', 'POST'])\n",
        "def upload_file():\n",
        "    if request.method == 'POST':\n",
        "        if 'file' not in request.files:\n",
        "            flash('No file part')\n",
        "            return redirect(request.url)\n",
        "        file = request.files['file']\n",
        "        if file.filename == '':\n",
        "            flash('No selected file')\n",
        "            return redirect(request.url)\n",
        "        if file and allowed_file(file.filename):\n",
        "            filename = secure_filename(file.filename)\n",
        "            file.save(os.path.join(app.config['UPLOAD_FOLDER'], filename))\n",
        "            return send_from_directory(app.config['UPLOAD_FOLDER'],\n",
        "                               filename)\n",
        "    return render_template('bank_prediction.html')"
      ]
    },
    {
      "cell_type": "code",
      "execution_count": null,
      "metadata": {
        "id": "Q0bOhcrELsoG"
      },
      "outputs": [],
      "source": [
        "@app.route('/getprediction',methods=['GET', 'POST'])\n",
        "def getprediction():\n",
        "  uploaded_file_name =os.listdir('/content/drive/MyDrive/Customer_Transaction_Data/upload_folder')\n",
        "  filepath=os.path.join('/content/drive/MyDrive/Customer_Transaction_Data/upload_folder/',uploaded_file_name[2])\n",
        "  test_data=pd.read_csv(filepath)\n",
        "  real_test=pickle.load(open('/content/drive/MyDrive/Customer_Transaction_Data/real_test_datset.pkl','rb'))\n",
        "  fake_test=pickle.load(open('/content/drive/MyDrive/Customer_Transaction_Data/fake_test_dataset.pkl','rb'))\n",
        "  Customer_id=test_data['ID_code']\n",
        "  mathematical_features=test_data.iloc[:,2:]\n",
        "  mathematical_features['sum']=mathematical_features.sum(axis=1)\n",
        "  mathematical_features['min']=mathematical_features.min(axis=1)\n",
        "  mathematical_features['max']=mathematical_features.max(axis=1)\n",
        "  mathematical_features['mean']=mathematical_features.mean(axis=1)\n",
        "  mathematical_features['std']=mathematical_features.std(axis=1)\n",
        "  mathematical_features['skew']=mathematical_features.skew(axis=1)\n",
        "  mathematical_features['kurt']=mathematical_features.kurtosis(axis=1)\n",
        "  mathematical_features['med']=mathematical_features.median(axis=1)\n",
        "  mathematical_features.insert(loc=0, column='ID_code', value=Customer_id)\n",
        "  check_real_features=real_test.loc[real_test['ID_code'].isin(list(Customer_id))]\n",
        "  column_names=[f\"var_{i}_unique\" for i in range(200)]\n",
        "  unique_real_features=check_real_features[column_names]#selecting unique columns\n",
        "  check_fake_features=fake_test.loc[fake_test['ID_code'].isin(list(Customer_id))]\n",
        "  unique_fake_features=check_fake_features[column_names]#selecting unique columns\n",
        "  f=[unique_real_features,unique_fake_features]\n",
        "  unique_featurized_testdata=pd.concat(f)\n",
        "  z=[test_data,mathematical_features,unique_featurized_testdata]\n",
        "  final_test_data=pd.concat(z,axis=1, join=\"inner\")\n",
        "  final_test=final_test_data.drop(['ID_code'],axis=1)\n",
        "  prediction=model.predict(final_test)\n",
        "  msg=[]\n",
        "  for i in range(len(prediction)):\n",
        "    if prediction[i]>=0.5:\n",
        "      msg.append('customer will make transaction in future')\n",
        "    else :\n",
        "      msg.append('customer will  not make transaction in future')\n",
        "  return render_template('bank_prediction.html',output=msg)\n"
      ]
    },
    {
      "cell_type": "code",
      "execution_count": null,
      "metadata": {
        "colab": {
          "background_save": true,
          "base_uri": "https://localhost:8080/"
        },
        "id": "wHATHRO8n6fk",
        "outputId": "362c3305-e9f8-4fa9-9205-24726169fe5f"
      },
      "outputs": [
        {
          "name": "stdout",
          "output_type": "stream",
          "text": [
            " * Serving Flask app \"__main__\" (lazy loading)\n",
            " * Environment: production\n",
            "\u001b[31m   WARNING: This is a development server. Do not use it in a production deployment.\u001b[0m\n",
            "\u001b[2m   Use a production WSGI server instead.\u001b[0m\n",
            " * Debug mode: off\n"
          ]
        },
        {
          "name": "stderr",
          "output_type": "stream",
          "text": [
            " * Running on http://127.0.0.1:5000/ (Press CTRL+C to quit)\n"
          ]
        },
        {
          "name": "stdout",
          "output_type": "stream",
          "text": [
            " * Running on http://5609-34-86-101-145.ngrok.io\n",
            " * Traffic stats available on http://127.0.0.1:4040\n"
          ]
        },
        {
          "name": "stderr",
          "output_type": "stream",
          "text": [
            "127.0.0.1 - - [02/Jun/2022 19:50:15] \"\u001b[37mGET / HTTP/1.1\u001b[0m\" 200 -\n",
            "127.0.0.1 - - [02/Jun/2022 19:50:17] \"\u001b[33mGET /favicon.ico HTTP/1.1\u001b[0m\" 404 -\n",
            "127.0.0.1 - - [02/Jun/2022 19:50:26] \"\u001b[37mPOST /getprediction HTTP/1.1\u001b[0m\" 200 -\n"
          ]
        }
      ],
      "source": [
        "run_with_ngrok(app)\n",
        "#!ngrok http 80\n",
        "app.run()"
      ]
    }
  ],
  "metadata": {
    "colab": {
      "collapsed_sections": [],
      "name": "Flask_Deployement_Final.ipynb",
      "provenance": []
    },
    "kernelspec": {
      "display_name": "Python 3",
      "name": "python3"
    },
    "language_info": {
      "name": "python"
    }
  },
  "nbformat": 4,
  "nbformat_minor": 0
}